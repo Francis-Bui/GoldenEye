{
 "cells": [
  {
   "cell_type": "code",
   "execution_count": 22,
   "metadata": {},
   "outputs": [
    {
     "ename": "FileNotFoundError",
     "evalue": "[Errno 2] No such file or directory: 'datasets/Mine.txt'",
     "output_type": "error",
     "traceback": [
      "\u001b[1;31m---------------------------------------------------------------------------\u001b[0m",
      "\u001b[1;31mFileNotFoundError\u001b[0m                         Traceback (most recent call last)",
      "Cell \u001b[1;32mIn [22], line 95\u001b[0m\n\u001b[0;32m     92\u001b[0m ax\u001b[39m.\u001b[39mset_title(\u001b[39m\"\u001b[39m\u001b[39mMine\u001b[39m\u001b[39m\"\u001b[39m)\n\u001b[0;32m     93\u001b[0m ax\u001b[39m.\u001b[39mimshow(blurred_vor_map, cmap\u001b[39m=\u001b[39m\u001b[39m\"\u001b[39m\u001b[39mcividis\u001b[39m\u001b[39m\"\u001b[39m)\n\u001b[1;32m---> 95\u001b[0m \u001b[39mwith\u001b[39;00m \u001b[39mopen\u001b[39;49m(\u001b[39m\"\u001b[39;49m\u001b[39mdatasets/Mine.txt\u001b[39;49m\u001b[39m\"\u001b[39;49m, \u001b[39m\"\u001b[39;49m\u001b[39mab\u001b[39;49m\u001b[39m\"\u001b[39;49m) \u001b[39mas\u001b[39;00m f:\n\u001b[0;32m     96\u001b[0m     np\u001b[39m.\u001b[39msavetxt(f, blurred_vor_map)\n",
      "\u001b[1;31mFileNotFoundError\u001b[0m: [Errno 2] No such file or directory: 'datasets/Mine.txt'"
     ]
    },
    {
     "data": {
      "image/png": "[encoded data removed]",
      "text/plain": [
       "<Figure size 640x480 with 1 Axes>"
      ]
     },
     "metadata": {},
     "output_type": "display_data"
    }
   ],
   "source": [
    "import random\n",
    "import numpy as np\n",
    "from matplotlib import pyplot as plt\n",
    "from scipy.spatial import Voronoi\n",
    "from skimage.draw import polygon\n",
    "from PIL import Image\n",
    "from noise import snoise3\n",
    "\n",
    "size = 50\n",
    "n = 256\n",
    "map_seed = 0\n",
    "\n",
    "def voronoi(points, size):\n",
    "    # add points at edges to eliminate infinite ridges\n",
    "    edge_points = size*np.array([[-1, -1], [-1, 2], [2, -1], [2, 2]])\n",
    "    new_points = np.vstack([points, edge_points])\n",
    "    \n",
    "    # calculate Voronoi tessellation\n",
    "    vor = Voronoi(new_points)\n",
    "    \n",
    "    return vor\n",
    "\n",
    "def voronoi_map(vor, size):\n",
    "    # calculate Voronoi map\n",
    "    vor_map = np.zeros((size, size), dtype=np.uint32)\n",
    "\n",
    "    for i, region in enumerate(vor.regions):\n",
    "        # skip empty regions and infinte ridge regions\n",
    "        if len(region) == 0 or -1 in region: continue\n",
    "        # get polygon vertices    \n",
    "        x, y = np.array([vor.vertices[i][::-1] for i in region]).T\n",
    "        # get pixels inside polygon\n",
    "        rr, cc = polygon(x, y)\n",
    "        # remove pixels out of image bounds\n",
    "        in_box = np.where((0 <= rr) & (rr < size) & (0 <= cc) & (cc < size))\n",
    "        rr, cc = rr[in_box], cc[in_box]\n",
    "        # paint image\n",
    "        vor_map[rr, cc] = i\n",
    "\n",
    "    return vor_map\n",
    "\n",
    "points = np.random.randint(0, size, (1000, 2))\n",
    "vor = voronoi(points, size)\n",
    "vor_map = voronoi_map(vor, size)\n",
    "\n",
    "def relax(points, size, k=10):  \n",
    "    new_points = points.copy()\n",
    "    for _ in range(k):\n",
    "        vor = voronoi(new_points, size)\n",
    "        new_points = []\n",
    "        for i, region in enumerate(vor.regions):\n",
    "            if len(region) == 0 or -1 in region: continue\n",
    "            poly = np.array([vor.vertices[i] for i in region])\n",
    "            center = poly.mean(axis=0)\n",
    "            new_points.append(center)\n",
    "        new_points = np.array(new_points).clip(0, size)\n",
    "    return new_points\n",
    "\n",
    "points = relax(points, size, k=100)\n",
    "vor = voronoi(points, size)\n",
    "vor_map = voronoi_map(vor, size)\n",
    "\n",
    "def noise_map(size, res, seed, octaves=1, persistence=0.5, lacunarity=2.0):\n",
    "    map_seed = random.randint(0, 9999)\n",
    "    scale = size/res\n",
    "    return np.array([[\n",
    "        snoise3(\n",
    "            (x+0.1)/scale,\n",
    "            y/scale,\n",
    "            seed+map_seed,\n",
    "            octaves=octaves,\n",
    "            persistence=persistence,\n",
    "            lacunarity=lacunarity\n",
    "        )\n",
    "        for x in range(size)]\n",
    "        for y in range(size)\n",
    "    ])\n",
    "\n",
    "boundary_displacement = 8\n",
    "boundary_noise = np.dstack([noise_map(size, 2, 200, octaves=16), noise_map(size, 2, 250, octaves=16)])\n",
    "boundary_noise = np.indices((size, size)).T + boundary_displacement*boundary_noise\n",
    "boundary_noise = boundary_noise.clip(0, size-1).astype(np.uint32)\n",
    "\n",
    "blurred_vor_map = np.zeros_like(vor_map)\n",
    "\n",
    "for x in range(size):\n",
    "    for y in range(size):\n",
    "        j, i = boundary_noise[x, y]\n",
    "        blurred_vor_map[x, y] = vor_map[i, j]\n",
    "\n",
    "fig, ax = plt.subplots()\n",
    "ax.set_title(\"Mine\")\n",
    "ax.imshow(blurred_vor_map, cmap=\"cividis\")\n",
    "\n",
    "with open(\"datasets/Mine.txt\", \"ab\") as f:\n",
    "    np.savetxt(f, blurred_vor_map)"
   ]
  }
 ],
 "metadata": {
  "kernelspec": {
   "display_name": "Python 3.10.2 64-bit",
   "language": "python",
   "name": "python3"
  },
  "language_info": {
   "codemirror_mode": {
    "name": "ipython",
    "version": 3
   },
   "file_extension": ".py",
   "mimetype": "text/x-python",
   "name": "python",
   "nbconvert_exporter": "python",
   "pygments_lexer": "ipython3",
   "version": "3.10.2"
  },
  "orig_nbformat": 4,
  "vscode": {
   "interpreter": {
    "hash": "5b1b687cc1d087fbc72979206991f648ae73964865272abf2875f38f280d2bb2"
   }
  }
 },
 "nbformat": 4,
 "nbformat_minor": 2
}
